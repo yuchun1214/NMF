{
 "cells": [
  {
   "cell_type": "markdown",
   "id": "724e4137",
   "metadata": {},
   "source": [
    "# Matrix Approximation"
   ]
  },
  {
   "cell_type": "code",
   "execution_count": 1,
   "id": "9e6502f7",
   "metadata": {},
   "outputs": [],
   "source": [
    "from pyqubo import Array, Binary, Model\n",
    "from matplotlib import pyplot as plt\n",
    "import matplotlib.ticker as ticker\n",
    "import requests\n",
    "import json\n",
    "import re\n",
    "import time\n",
    "import numpy as np\n",
    "import scipy as sp\n",
    "\n",
    "from lib.util import *"
   ]
  },
  {
   "cell_type": "code",
   "execution_count": 7,
   "id": "58b86f42",
   "metadata": {},
   "outputs": [],
   "source": [
    "dimension = (3, 5)\n",
    "precision = 21\n",
    "starting_point = 0\n",
    "\n",
    "X = generate_random_matrix(dimension)\n",
    "approximated_X = generate_target_matrix(dimension, precision, starting_point)\n",
    "hamiltonian = np.trace(np.inner(X-approximated_X, X-approximated_X))"
   ]
  },
  {
   "cell_type": "code",
   "execution_count": 8,
   "id": "522a0709",
   "metadata": {},
   "outputs": [
    {
     "name": "stdout",
     "output_type": "stream",
     "text": [
      "Elapsed time:  0.03492307662963867  seconds\n"
     ]
    }
   ],
   "source": [
    "start_time = time.time()\n",
    "\n",
    "model = hamiltonian.compile()\n",
    "qubo, offset = model.to_qubo()\n",
    "matrix_term = get_matrix_term(qubo, model.variables)\n",
    "\n",
    "end_time = time.time()\n",
    "elapsed_time = end_time - start_time\n",
    "print(\"Elapsed time: \", elapsed_time, \" seconds\")"
   ]
  },
  {
   "cell_type": "code",
   "execution_count": 9,
   "id": "90058b84",
   "metadata": {},
   "outputs": [],
   "source": [
    "problem_body = {}\n",
    "DA_Solver = {}\n",
    "DA_Solver[\"time_limit_sec\"]= 100\n",
    "DA_Solver[\"penalty_coef\"]=10000\n",
    "DA_Solver[\"num_run\"] = 16\n",
    "DA_Solver[\"num_group\"] = 16\n",
    "DA_Solver['gs_level'] = 50\n",
    "DA_Solver['gs_cutoff'] = 80000\n",
    "problem_body[\"fujitsuDA3\"]=DA_Solver\n",
    "problem_body[\"binary_polynomial\"] = {'terms' : matrix_term}"
   ]
  },
  {
   "cell_type": "code",
   "execution_count": 10,
   "id": "87ea05c2",
   "metadata": {},
   "outputs": [
    {
     "name": "stdout",
     "output_type": "stream",
     "text": [
      "{'message': 'success'}\n"
     ]
    }
   ],
   "source": [
    "response = post_solve(problem_body)\n",
    "job_id = response.json()['job_id']"
   ]
  },
  {
   "cell_type": "code",
   "execution_count": 11,
   "id": "3bc8bc54",
   "metadata": {},
   "outputs": [],
   "source": [
    "solution = get_solution(job_id)\n",
    "configuration = solution['qubo_solution']['solutions'][0]['configuration']"
   ]
  },
  {
   "cell_type": "code",
   "execution_count": 14,
   "id": "b0000dd3",
   "metadata": {},
   "outputs": [],
   "source": [
    "def decode(configuration, dimension, precision, start_point):\n",
    "    binary_code = create_binary_representated_vector(precision, start_point)\n",
    "    nrows, ncols = dimension\n",
    "    \n",
    "    solution_dict = {}\n",
    "    for key, value in configuration.items():\n",
    "        if value:\n",
    "            solution_dict[model.variables[int(key)]] = 1\n",
    "        else:\n",
    "            solution_dict[model.variables[int(key)]] = 0\n",
    "            \n",
    "    # binary_representation_columns is an array whose element are represented as a matrix\n",
    "    # the matrix multiply binary_code would become a column\n",
    "    binary_representation_columns = []\n",
    "    for i in range(ncols):\n",
    "        binary_representation_columns.append(np.zeros((nrows, precision)))\n",
    "\n",
    "    for key, value in solution_dict.items():\n",
    "        # get the name of column\n",
    "        indexes = re.findall(r'(\\d+)', key)\n",
    "        indexes = [int(i) for i in indexes]\n",
    "        col = indexes[0]\n",
    "        binary_representation_columns[col][indexes[1]][indexes[2]] = value\n",
    "\n",
    "    columns = []\n",
    "    for mat in binary_representation_columns:\n",
    "        columns.append(np.array((mat * np.matrix(binary_code).transpose()).transpose())[0])\n",
    "\n",
    "    return np.matrix(np.column_stack(columns)), binary_representation_columns, binary_code"
   ]
  },
  {
   "cell_type": "code",
   "execution_count": 16,
   "id": "59fc9c3b",
   "metadata": {},
   "outputs": [],
   "source": [
    "mat, b_columns, b_code = decode(configuration, dimension, precision, starting_point)"
   ]
  },
  {
   "cell_type": "code",
   "execution_count": 19,
   "id": "6275a2b6",
   "metadata": {},
   "outputs": [
    {
     "data": {
      "text/plain": [
       "1.1945419345404711e-12"
      ]
     },
     "execution_count": 19,
     "metadata": {},
     "output_type": "execute_result"
    }
   ],
   "source": [
    "np.trace(np.inner(mat-X, mat-X))"
   ]
  },
  {
   "cell_type": "code",
   "execution_count": null,
   "id": "5512e316",
   "metadata": {},
   "outputs": [],
   "source": []
  }
 ],
 "metadata": {
  "kernelspec": {
   "display_name": "Python 3 (ipykernel)",
   "language": "python",
   "name": "python3"
  },
  "language_info": {
   "codemirror_mode": {
    "name": "ipython",
    "version": 3
   },
   "file_extension": ".py",
   "mimetype": "text/x-python",
   "name": "python",
   "nbconvert_exporter": "python",
   "pygments_lexer": "ipython3",
   "version": "3.11.3"
  }
 },
 "nbformat": 4,
 "nbformat_minor": 5
}
